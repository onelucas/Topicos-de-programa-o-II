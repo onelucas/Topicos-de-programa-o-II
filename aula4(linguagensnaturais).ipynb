{
 "cells": [
  {
   "cell_type": "code",
   "execution_count": 1,
   "id": "541cf8e2-43e6-4b6a-b757-156aa10ee714",
   "metadata": {},
   "outputs": [
    {
     "name": "stdout",
     "output_type": "stream",
     "text": [
      "Olá mundo\n"
     ]
    }
   ],
   "source": [
    "print(\"Olá mundo\")\n",
    "\n"
   ]
  },
  {
   "cell_type": "code",
   "execution_count": 3,
   "id": "92bf116e-5eaf-469a-a4f3-7bcd640f151a",
   "metadata": {},
   "outputs": [],
   "source": [
    "import nltk\n",
    "import re\n"
   ]
  },
  {
   "cell_type": "code",
   "execution_count": 5,
   "id": "e5fe7d61-0d58-4cbb-b4ed-105e2aaad4dc",
   "metadata": {},
   "outputs": [],
   "source": [
    "dialogo = \"\"\"\n",
    "    cliente - de quanto tempo é o estágio probatório?\n",
    "    atendente - o estágio probatório é de 3 anos contados a partir da data de posse.\n",
    "\"\"\""
   ]
  },
  {
   "cell_type": "code",
   "execution_count": 7,
   "id": "0210ab1f-968d-4298-9436-11ca5d3b7eae",
   "metadata": {},
   "outputs": [
    {
     "name": "stdout",
     "output_type": "stream",
     "text": [
      "\n",
      "    cliente - de quanto tempo é o estágio probatório?\n",
      "    atendente - o estágio probatório é de 3 anos contados a partir da data de posse.\n",
      "\n"
     ]
    }
   ],
   "source": [
    "print(dialogo)"
   ]
  },
  {
   "cell_type": "code",
   "execution_count": 88,
   "id": "944dbe58-b6e2-4ce5-96db-a457004c94af",
   "metadata": {},
   "outputs": [],
   "source": [
    "informacoes = []\n",
    "\n",
    "duracao = re.compile(r'\\b\\d+\\s+(ano|anos|mês|meses|dia?)\\b', re.IGNORECASE)\n",
    "data_ref = re.compile(r'data\\s+de\\s+\\w+', re.IGNORECASE)"
   ]
  },
  {
   "cell_type": "code",
   "execution_count": 90,
   "id": "c19e4545-ac92-4394-a4aa-6d774e838280",
   "metadata": {},
   "outputs": [],
   "source": [
    "sentencas = nltk.sent_tokenize(dialogo, language='portuguese')"
   ]
  },
  {
   "cell_type": "code",
   "execution_count": 92,
   "id": "379caae6-87eb-4448-a0e1-057409d4f550",
   "metadata": {},
   "outputs": [
    {
     "name": "stderr",
     "output_type": "stream",
     "text": [
      "[nltk_data] Downloading package punkt to\n",
      "[nltk_data]     C:\\Users\\aluno\\AppData\\Roaming\\nltk_data...\n",
      "[nltk_data]   Package punkt is already up-to-date!\n"
     ]
    },
    {
     "data": {
      "text/plain": [
       "True"
      ]
     },
     "execution_count": 92,
     "metadata": {},
     "output_type": "execute_result"
    }
   ],
   "source": [
    "nltk.download('punkt')"
   ]
  },
  {
   "cell_type": "code",
   "execution_count": 94,
   "id": "52823fe6-634f-4ef8-931b-40305c68a786",
   "metadata": {},
   "outputs": [
    {
     "name": "stdout",
     "output_type": "stream",
     "text": [
      "['\\n    cliente - de quanto tempo é o estágio probatório?', 'atendente - o estágio probatório é de 3 anos contados a partir da data de posse.']\n"
     ]
    }
   ],
   "source": [
    "print(sentencas)\n"
   ]
  },
  {
   "cell_type": "code",
   "execution_count": 100,
   "id": "74c4d46c-afd8-4079-8ffe-76e3c79cd71d",
   "metadata": {},
   "outputs": [
    {
     "name": "stdout",
     "output_type": "stream",
     "text": [
      "duração: 3 anos\n",
      "referência de tempo: data de posse\n",
      "duração: 3 anos\n",
      "referência de tempo: data de posse\n",
      "duração: 3 anos\n",
      "referência de tempo: data de posse\n"
     ]
    }
   ],
   "source": [
    "for s in sentencas:\n",
    "    duracoes = duracao.findall(s)\n",
    "    #print(duracoes)\n",
    "    if duracoes:\n",
    "        duracao_completa = duracao.search(s).group()\n",
    "        informacoes.append((\"duração\", duracao_completa))\n",
    "\n",
    "    datas = data_ref.findall(s)\n",
    "    for data in datas:\n",
    "        informacoes.append((\"referência de tempo\", data))\n",
    "\n",
    "for tipo, valor in informacoes:\n",
    "    print(f\"{tipo}: {valor}\")"
   ]
  },
  {
   "cell_type": "code",
   "execution_count": 104,
   "id": "95905c40-2986-4cd2-b303-cc5df5be9a20",
   "metadata": {},
   "outputs": [],
   "source": [
    "##[abacate, abacaxi, abobora, abobrinha, ananás, maça, mamão, manga, melancia, melão, mexerica, morango]"
   ]
  },
  {
   "cell_type": "code",
   "execution_count": 136,
   "id": "dd8f43f2-4324-4f93-b1d6-3e29931ba3f8",
   "metadata": {},
   "outputs": [
    {
     "name": "stdout",
     "output_type": "stream",
     "text": [
      "Bigramas de abacate: ['ab', 'ba', 'ac', 'ca', 'at', 'te']\n",
      "Bigramas de abacaxi: ['ab', 'ba', 'ac', 'ca', 'ax', 'xi']\n",
      "Bigramas de abobora: ['ab', 'bo', 'ob', 'bo', 'or', 'ra']\n",
      "Bigramas de abobrinha: ['ab', 'bo', 'ob', 'br', 'ri', 'in', 'nh', 'ha']\n",
      "Bigramas de ananás: ['an', 'na', 'an', 'ná', 'ás']\n",
      "Bigramas de maça: ['ma', 'aç', 'ça']\n",
      "Bigramas de mamão: ['ma', 'am', 'mã', 'ão']\n",
      "Bigramas de manga: ['ma', 'an', 'ng', 'ga']\n",
      "Bigramas de melancia: ['me', 'el', 'la', 'an', 'nc', 'ci', 'ia']\n",
      "Bigramas de melão: ['me', 'el', 'lã', 'ão']\n",
      "Bigramas de mexerica: ['me', 'ex', 'xe', 'er', 'ri', 'ic', 'ca']\n",
      "Bigramas de morango: ['mo', 'or', 'ra', 'an', 'ng', 'go']\n"
     ]
    }
   ],
   "source": [
    "\n",
    "frutas = [\"abacate\", \"abacaxi\", \"abobora\", \"abobrinha\", \"ananás\", \"maça\", \"mamão\", \"manga\", \"melancia\", \"melão\", \"mexerica\", \"morango\"]\n",
    "\n",
    "bigramas_por_fruta = {} \n",
    "\n",
    "def gerar_bigramas(fruta): \n",
    "    bigramas = []\n",
    "    for i in range(len(fruta) - 1):\n",
    "        bigramas.append(fruta[i:i+2])\n",
    "    return bigramas\n",
    "\n",
    "for fruta in frutas:\n",
    "    bigramas_por_fruta[fruta] = gerar_bigramas(fruta)\n",
    "\n",
    "for fruta, bigramas in bigramas_por_fruta.items():\n",
    "    print(f\"Bigramas de {fruta}: {bigramas}\")\n",
    "                                 \n",
    "    \n"
   ]
  },
  {
   "cell_type": "code",
   "execution_count": null,
   "id": "ae98b3ad-181c-4d94-b8e5-718cb77cd850",
   "metadata": {},
   "outputs": [],
   "source": []
  }
 ],
 "metadata": {
  "kernelspec": {
   "display_name": "Python 3 (ipykernel)",
   "language": "python",
   "name": "python3"
  },
  "language_info": {
   "codemirror_mode": {
    "name": "ipython",
    "version": 3
   },
   "file_extension": ".py",
   "mimetype": "text/x-python",
   "name": "python",
   "nbconvert_exporter": "python",
   "pygments_lexer": "ipython3",
   "version": "3.12.4"
  }
 },
 "nbformat": 4,
 "nbformat_minor": 5
}
