{
 "cells": [
  {
   "cell_type": "code",
   "execution_count": 1,
   "id": "08bcb6cc-e3b8-49bb-a17a-fa70dee482be",
   "metadata": {},
   "outputs": [
    {
     "name": "stdout",
     "output_type": "stream",
     "text": [
      "Olá mundo\n"
     ]
    }
   ],
   "source": [
    "print(\"Olá mundo\") "
   ]
  },
  {
   "cell_type": "markdown",
   "id": "b4f8a0e7-b970-4c99-a084-8ba344287826",
   "metadata": {},
   "source": [
    "## AULA 2: Biblioteca pandas"
   ]
  },
  {
   "cell_type": "code",
   "execution_count": 5,
   "id": "0b2460d9-47ca-4f52-bde0-98603c51ca0d",
   "metadata": {},
   "outputs": [
    {
     "name": "stdout",
     "output_type": "stream",
     "text": [
      "0    10\n",
      "1    20\n",
      "2    30\n",
      "3    40\n",
      "4    50\n",
      "dtype: int64\n"
     ]
    }
   ],
   "source": [
    "import pandas as pd\n",
    "\n",
    "lista = [10, 20, 30, 40, 50]\n",
    "serie = pd.Series(lista)\n",
    "print(serie)"
   ]
  },
  {
   "cell_type": "code",
   "execution_count": 15,
   "id": "4a39404c-1aa7-41d0-bdd4-a93095d4ef25",
   "metadata": {},
   "outputs": [
    {
     "name": "stdout",
     "output_type": "stream",
     "text": [
      "  Produto  Preco  Qtde\n",
      "0   Arroz   20.0    10\n",
      "1  Feijao    8.0    15\n",
      "2     ovo   27.0     0\n"
     ]
    }
   ],
   "source": [
    "dados = {'Produto':['Arroz','Feijao','ovo'], \n",
    "         'Preco':[20.00, 8.00, 27.00], \n",
    "         'Qtde':[10, 15, 0]\n",
    "        }\n",
    "\n",
    "tabela = pd.DataFrame(dados)\n",
    "print(tabela)"
   ]
  },
  {
   "cell_type": "code",
   "execution_count": 28,
   "id": "852de6ae-da73-4add-a6dd-4a68e2bfd193",
   "metadata": {},
   "outputs": [
    {
     "name": "stdout",
     "output_type": "stream",
     "text": [
      "0     Arroz\n",
      "1    Feijao\n",
      "2       ovo\n",
      "Name: Produto, dtype: object\n"
     ]
    }
   ],
   "source": [
    "print(tabela['Produto'])\n"
   ]
  },
  {
   "cell_type": "code",
   "execution_count": 32,
   "id": "fe48fa71-2e86-41f5-8bb4-ad00b974a005",
   "metadata": {},
   "outputs": [
    {
     "name": "stdout",
     "output_type": "stream",
     "text": [
      "Produto    Feijao\n",
      "Preco         8.0\n",
      "Qtde           15\n",
      "Name: 1, dtype: object\n"
     ]
    }
   ],
   "source": [
    "print(tabela.iloc[1])"
   ]
  },
  {
   "cell_type": "code",
   "execution_count": 34,
   "id": "2ff1babd-fe75-48b6-a7b6-d6f82a870f91",
   "metadata": {},
   "outputs": [
    {
     "name": "stdout",
     "output_type": "stream",
     "text": [
      "20.0\n"
     ]
    }
   ],
   "source": [
    "print(tabela.iloc[0,1])"
   ]
  },
  {
   "cell_type": "code",
   "execution_count": 47,
   "id": "07a76c02-cc65-4811-b0da-982fd07739de",
   "metadata": {},
   "outputs": [
    {
     "name": "stdout",
     "output_type": "stream",
     "text": [
      "       Nome  idade          Cidade\n",
      "0    Carlos     30           Lages\n",
      "1  Anderson     23           Mafra\n",
      "2   Gabriel     21  Jaraguá do Sul\n",
      "3     Lucas     22  Jaraguá do Sul\n",
      "Média de idades da turma: 24.0\n"
     ]
    }
   ],
   "source": [
    "pessoas = {'Nome': ['Carlos', 'Anderson', 'Gabriel', 'Lucas'],\n",
    "            'idade': [30, 23, 21, 22],\n",
    "            'Cidade': ['Lages', 'Mafra', 'Jaraguá do Sul', 'Jaraguá do Sul']\n",
    "          }\n",
    "tabela = pd.DataFrame(pessoas)\n",
    "print(tabela.head())  \n",
    "\n",
    "\n",
    "mediaIdade = tabela ['idade'].mean()\n",
    "print(f\"Média de idades da turma: {mediaIdade}\")"
   ]
  },
  {
   "cell_type": "code",
   "execution_count": 57,
   "id": "e5ba9955-9013-469c-8dbe-747c985e174f",
   "metadata": {},
   "outputs": [
    {
     "name": "stdout",
     "output_type": "stream",
     "text": [
      "       Nome  idade Cidade\n",
      "0    Carlos     30  Lages\n",
      "1  Anderson     23  Mafra\n"
     ]
    }
   ],
   "source": [
    "mais_q_22 = tabela [tabela['idade'] > 22]\n",
    "print(mais_q_22)"
   ]
  }
 ],
 "metadata": {
  "kernelspec": {
   "display_name": "Python 3 (ipykernel)",
   "language": "python",
   "name": "python3"
  },
  "language_info": {
   "codemirror_mode": {
    "name": "ipython",
    "version": 3
   },
   "file_extension": ".py",
   "mimetype": "text/x-python",
   "name": "python",
   "nbconvert_exporter": "python",
   "pygments_lexer": "ipython3",
   "version": "3.12.4"
  }
 },
 "nbformat": 4,
 "nbformat_minor": 5
}
