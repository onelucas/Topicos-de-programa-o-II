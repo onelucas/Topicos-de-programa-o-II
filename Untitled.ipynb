{
 "cells": [
  {
   "cell_type": "code",
   "execution_count": 5,
   "id": "3701ccef-f9c9-4c6e-b875-8370005559c8",
   "metadata": {},
   "outputs": [
    {
     "name": "stdout",
     "output_type": "stream",
     "text": [
      "Olá mundo1\n"
     ]
    }
   ],
   "source": [
    "print(\"Olá mundo1\") "
   ]
  },
  {
   "cell_type": "code",
   "execution_count": 3,
   "id": "c34b2026-d567-42c8-a8a2-99457de9796c",
   "metadata": {},
   "outputs": [
    {
     "name": "stdout",
     "output_type": "stream",
     "text": [
      "Olá mundo2\n"
     ]
    }
   ],
   "source": [
    "print(\"Olá mundo2\")"
   ]
  },
  {
   "cell_type": "code",
   "execution_count": 40,
   "id": "283bc498-18dd-4468-ae0a-5020aafbb633",
   "metadata": {},
   "outputs": [
    {
     "name": "stdin",
     "output_type": "stream",
     "text": [
      "1 - Entre com a sua idade:  3\n"
     ]
    },
    {
     "name": "stdout",
     "output_type": "stream",
     "text": [
      "Menor de idade\n"
     ]
    },
    {
     "name": "stdin",
     "output_type": "stream",
     "text": [
      "2 - Entre com a sua idade:  4\n"
     ]
    },
    {
     "name": "stdout",
     "output_type": "stream",
     "text": [
      "Menor de idade\n"
     ]
    },
    {
     "name": "stdin",
     "output_type": "stream",
     "text": [
      "3 - Entre com a sua idade:  5\n"
     ]
    },
    {
     "name": "stdout",
     "output_type": "stream",
     "text": [
      "Menor de idade\n",
      "[3, 4, 5]\n"
     ]
    }
   ],
   "source": [
    "# verificar se uma pessoa é maior de idade (> 18)\n",
    "import numpy as np\n",
    "minhaLista = []\n",
    "for i in range(1, 4):\n",
    "    idade = int(input(f\"{i} - Entre com a sua idade: \"))\n",
    "    minhaLista.append(idade)\n",
    "    \n",
    "    if idade >= 18:\n",
    "        print(\"Maior de idade\")\n",
    "    else: \n",
    "        print(\"Menor de idade\")\n",
    "\n",
    "print(minhaLista)"
   ]
  },
  {
   "cell_type": "code",
   "execution_count": 67,
   "id": "0c2b9c19-a323-4950-b50b-5efe3d3005c1",
   "metadata": {},
   "outputs": [
    {
     "name": "stdin",
     "output_type": "stream",
     "text": [
      "1 - Entre com a sua idade:  15\n",
      "Digite F para feminino e M para masculino:  f\n",
      "2 - Entre com a sua idade:  15\n",
      "Digite F para feminino e M para masculino:  f\n",
      "3 - Entre com a sua idade:  15\n",
      "Digite F para feminino e M para masculino:  f\n",
      "4 - Entre com a sua idade:  15\n",
      "Digite F para feminino e M para masculino:  m\n",
      "5 - Entre com a sua idade:  15\n",
      "Digite F para feminino e M para masculino:  m\n",
      "6 - Entre com a sua idade:  15\n",
      "Digite F para feminino e M para masculino:  m\n"
     ]
    },
    {
     "name": "stdout",
     "output_type": "stream",
     "text": [
      "A média das idades é: 15.0\n",
      "O percentual de mulheres é: 50.0%\n"
     ]
    }
   ],
   "source": [
    "# receber 6 pessoas (idade e sexo)\n",
    "# mostrar média de idades e percentual de mulheres\n",
    "\n",
    "soma_idades = 0 \n",
    "contador_mulheres = 0\n",
    "\n",
    "for i in range(1, 7):\n",
    "    idade = int(input(f\"{i} - Entre com a sua idade: \"))\n",
    "    sexo = str(input(\"Digite F para feminino e M para masculino: \"))\n",
    "    soma_idades += idade\n",
    "\n",
    "    if sexo == \"F\" or sexo == \"f\":\n",
    "        contador_mulheres  += 1\n",
    "\n",
    "mediaIdade = soma_idades / 6\n",
    "print(f\"A média das idades é: {mediaIdade}\")\n",
    "percentualMulheres = (contador_mulheres * 100 / 6)\n",
    "print(f\"O percentual de mulheres é: {percentualMulheres}%\")"
   ]
  },
  {
   "cell_type": "code",
   "execution_count": 54,
   "id": "3c6a89c9-ef6b-465d-adcb-fa721755763d",
   "metadata": {},
   "outputs": [
    {
     "name": "stdin",
     "output_type": "stream",
     "text": [
      "1 - Entre com seu nome, idade e sexo:  lycas 20 m\n",
      "2 - Entre com seu nome, idade e sexo:  lucas 20 m\n",
      "3 - Entre com seu nome, idade e sexo:  luca 20 m\n",
      "4 - Entre com seu nome, idade e sexo:  lucas 2 m\n",
      "5 - Entre com seu nome, idade e sexo:  \n"
     ]
    },
    {
     "ename": "ValueError",
     "evalue": "not enough values to unpack (expected 3, got 1)",
     "output_type": "error",
     "traceback": [
      "\u001b[1;31m---------------------------------------------------------------------------\u001b[0m",
      "\u001b[1;31mValueError\u001b[0m                                Traceback (most recent call last)",
      "Cell \u001b[1;32mIn[54], line 9\u001b[0m\n\u001b[0;32m      6\u001b[0m \u001b[38;5;28;01mimport\u001b[39;00m \u001b[38;5;21;01mnumpy\u001b[39;00m \u001b[38;5;28;01mas\u001b[39;00m \u001b[38;5;21;01mnp\u001b[39;00m\n\u001b[0;32m      8\u001b[0m \u001b[38;5;28;01mfor\u001b[39;00m i \u001b[38;5;129;01min\u001b[39;00m \u001b[38;5;28mrange\u001b[39m(\u001b[38;5;241m1\u001b[39m, \u001b[38;5;241m7\u001b[39m):\n\u001b[1;32m----> 9\u001b[0m     nome, idade, sexo \u001b[38;5;241m=\u001b[39m \u001b[38;5;28minput\u001b[39m(\u001b[38;5;124mf\u001b[39m\u001b[38;5;124m\"\u001b[39m\u001b[38;5;132;01m{\u001b[39;00mi\u001b[38;5;132;01m}\u001b[39;00m\u001b[38;5;124m - Entre com seu nome, idade e sexo: \u001b[39m\u001b[38;5;124m\"\u001b[39m)\u001b[38;5;241m.\u001b[39msplit(\u001b[38;5;124m\"\u001b[39m\u001b[38;5;124m \u001b[39m\u001b[38;5;124m\"\u001b[39m)\n\u001b[0;32m     10\u001b[0m     idade \u001b[38;5;241m=\u001b[39m \u001b[38;5;28mint\u001b[39m(idade) \n\u001b[0;32m     11\u001b[0m     minhaLista\u001b[38;5;241m.\u001b[39mappend(idade)\n",
      "\u001b[1;31mValueError\u001b[0m: not enough values to unpack (expected 3, got 1)"
     ]
    }
   ],
   "source": [
    "soma_idades = 0 \n",
    "contador_mulheres = 0\n",
    "maior_idade = 0\n",
    "nome_maior_idade = \"\"\n",
    "minhaLista = []\n",
    "import numpy as np\n",
    "\n",
    "for i in range(1, 7):\n",
    "    nome, idade, sexo = input(f\"{i} - Entre com seu nome, idade e sexo: \").split(\" \")\n",
    "    idade = int(idade) \n",
    "    minhaLista.append(idade)\n",
    "    soma_idades += idade\n",
    "\n",
    "    if sexo == \"F\" or sexo == \"f\":\n",
    "        contador_mulheres += 1\n",
    "\n",
    "    if idade > maior_idade:  \n",
    "        maior_idade = idade  \n",
    "        nome_maior_idade = nome\n",
    "\n",
    "mediaIdade = soma_idades / 6\n",
    "print(f\"A média das idades é: {mediaIdade}\")\n",
    "percentualMulheres = (contador_mulheres * 100 / 6)\n",
    "print(f\"O percentual de mulheres é: {percentualMulheres}%\")\n",
    "print(f\"A Pessoa com maior idade é: {nome_maior_idade}, com {maior_idade} anos.\")\n",
    "#UMA LISTA\n",
    "print(minhaLista)\n",
    "\n",
    "# UM ARRAY NUMPY\n",
    "array_np= np.array(minhaLista)\n",
    "print(array_np+2)\n",
    "\n",
    "# NOVO ARRAY\n",
    "array_np_0_10 = np.arange(10)\n",
    "print(array_np_0_10)\n",
    "\n"
   ]
  },
  {
   "cell_type": "code",
   "execution_count": 56,
   "id": "3de68f4b-a07b-49c9-917d-61ca89ff3249",
   "metadata": {},
   "outputs": [
    {
     "name": "stdout",
     "output_type": "stream",
     "text": [
      "[0 1 2 3 4 5 6 7 8 9]\n"
     ]
    }
   ],
   "source": [
    "# NOVO ARRAY\n",
    "array_np_0_10 = np.arange(10)\n",
    "print(array_np_0_10)\n"
   ]
  },
  {
   "cell_type": "code",
   "execution_count": 60,
   "id": "17dc6df7-f1a2-4a34-a587-cb08b18dad12",
   "metadata": {},
   "outputs": [
    {
     "name": "stdout",
     "output_type": "stream",
     "text": [
      "[0. 2. 4. 6. 8.]\n"
     ]
    }
   ],
   "source": [
    "# NOVO ARRAY 0, 8 -> 5 \n",
    "array_np_ls = np.linspace(0, 8, 5)\n",
    "print(array_np_ls)\n"
   ]
  },
  {
   "cell_type": "code",
   "execution_count": 62,
   "id": "38bf79d1-0962-4b41-970c-d4284dd1bdb1",
   "metadata": {},
   "outputs": [
    {
     "name": "stdout",
     "output_type": "stream",
     "text": [
      "[[0. 0. 0.]\n",
      " [0. 0. 0.]\n",
      " [0. 0. 0.]]\n"
     ]
    }
   ],
   "source": [
    "# NOVO ARRAY COM SHAPE3 X 3\n",
    "array_np_3x3 = np.zeros((3,3))\n",
    "print(array_np_3x3)\n"
   ]
  },
  {
   "cell_type": "code",
   "execution_count": null,
   "id": "e4b11737-dc99-4e32-b846-d4becf5308ad",
   "metadata": {},
   "outputs": [],
   "source": []
  }
 ],
 "metadata": {
  "kernelspec": {
   "display_name": "Python 3 (ipykernel)",
   "language": "python",
   "name": "python3"
  },
  "language_info": {
   "codemirror_mode": {
    "name": "ipython",
    "version": 3
   },
   "file_extension": ".py",
   "mimetype": "text/x-python",
   "name": "python",
   "nbconvert_exporter": "python",
   "pygments_lexer": "ipython3",
   "version": "3.12.4"
  }
 },
 "nbformat": 4,
 "nbformat_minor": 5
}
