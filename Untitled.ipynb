{
 "cells": [
  {
   "cell_type": "code",
   "execution_count": 5,
   "id": "3701ccef-f9c9-4c6e-b875-8370005559c8",
   "metadata": {},
   "outputs": [
    {
     "name": "stdout",
     "output_type": "stream",
     "text": [
      "Olá mundo1\n"
     ]
    }
   ],
   "source": [
    "print(\"Olá mundo1\") "
   ]
  },
  {
   "cell_type": "code",
   "execution_count": 3,
   "id": "c34b2026-d567-42c8-a8a2-99457de9796c",
   "metadata": {},
   "outputs": [
    {
     "name": "stdout",
     "output_type": "stream",
     "text": [
      "Olá mundo2\n"
     ]
    }
   ],
   "source": [
    "print(\"Olá mundo2\")"
   ]
  },
  {
   "cell_type": "code",
   "execution_count": 45,
   "id": "283bc498-18dd-4468-ae0a-5020aafbb633",
   "metadata": {},
   "outputs": [
    {
     "name": "stdin",
     "output_type": "stream",
     "text": [
      "1 - Entre com a sua idade:  1\n"
     ]
    },
    {
     "name": "stdout",
     "output_type": "stream",
     "text": [
      "Menor de idade\n"
     ]
    },
    {
     "name": "stdin",
     "output_type": "stream",
     "text": [
      "2 - Entre com a sua idade:  1\n"
     ]
    },
    {
     "name": "stdout",
     "output_type": "stream",
     "text": [
      "Menor de idade\n"
     ]
    },
    {
     "name": "stdin",
     "output_type": "stream",
     "text": [
      "3 - Entre com a sua idade:  1\n"
     ]
    },
    {
     "name": "stdout",
     "output_type": "stream",
     "text": [
      "Menor de idade\n"
     ]
    },
    {
     "name": "stdin",
     "output_type": "stream",
     "text": [
      "4 - Entre com a sua idade:  1\n"
     ]
    },
    {
     "name": "stdout",
     "output_type": "stream",
     "text": [
      "Menor de idade\n"
     ]
    },
    {
     "name": "stdin",
     "output_type": "stream",
     "text": [
      "5 - Entre com a sua idade:  1\n"
     ]
    },
    {
     "name": "stdout",
     "output_type": "stream",
     "text": [
      "Menor de idade\n"
     ]
    },
    {
     "name": "stdin",
     "output_type": "stream",
     "text": [
      "6 - Entre com a sua idade:  1\n"
     ]
    },
    {
     "name": "stdout",
     "output_type": "stream",
     "text": [
      "Menor de idade\n"
     ]
    },
    {
     "name": "stdin",
     "output_type": "stream",
     "text": [
      "7 - Entre com a sua idade:  1\n"
     ]
    },
    {
     "name": "stdout",
     "output_type": "stream",
     "text": [
      "Menor de idade\n"
     ]
    },
    {
     "name": "stdin",
     "output_type": "stream",
     "text": [
      "8 - Entre com a sua idade:  1\n"
     ]
    },
    {
     "name": "stdout",
     "output_type": "stream",
     "text": [
      "Menor de idade\n"
     ]
    },
    {
     "name": "stdin",
     "output_type": "stream",
     "text": [
      "9 - Entre com a sua idade:  1\n"
     ]
    },
    {
     "name": "stdout",
     "output_type": "stream",
     "text": [
      "Menor de idade\n"
     ]
    },
    {
     "name": "stdin",
     "output_type": "stream",
     "text": [
      "10 - Entre com a sua idade:  1\n"
     ]
    },
    {
     "name": "stdout",
     "output_type": "stream",
     "text": [
      "Menor de idade\n"
     ]
    }
   ],
   "source": [
    "# verificar se uma pessoa é maior de idade (> 18)\n",
    "\n",
    "for i in range(1, 11):\n",
    "    idade = int(input(f\"{i} - Entre com a sua idade: \"))\n",
    "    \n",
    "    if idade >= 18:\n",
    "        print(\"Maior de idade\")\n",
    "    else: \n",
    "        print(\"Menor de idade\")"
   ]
  },
  {
   "cell_type": "code",
   "execution_count": 67,
   "id": "0c2b9c19-a323-4950-b50b-5efe3d3005c1",
   "metadata": {},
   "outputs": [
    {
     "name": "stdin",
     "output_type": "stream",
     "text": [
      "1 - Entre com a sua idade:  15\n",
      "Digite F para feminino e M para masculino:  f\n",
      "2 - Entre com a sua idade:  15\n",
      "Digite F para feminino e M para masculino:  f\n",
      "3 - Entre com a sua idade:  15\n",
      "Digite F para feminino e M para masculino:  f\n",
      "4 - Entre com a sua idade:  15\n",
      "Digite F para feminino e M para masculino:  m\n",
      "5 - Entre com a sua idade:  15\n",
      "Digite F para feminino e M para masculino:  m\n",
      "6 - Entre com a sua idade:  15\n",
      "Digite F para feminino e M para masculino:  m\n"
     ]
    },
    {
     "name": "stdout",
     "output_type": "stream",
     "text": [
      "A média das idades é: 15.0\n",
      "O percentual de mulheres é: 50.0%\n"
     ]
    }
   ],
   "source": [
    "# receber 6 pessoas (idade e sexo)\n",
    "# mostrar média de idades e percentual de mulheres\n",
    "\n",
    "soma_idades = 0 \n",
    "contador_mulheres = 0\n",
    "\n",
    "for i in range(1, 7):\n",
    "    idade = int(input(f\"{i} - Entre com a sua idade: \"))\n",
    "    sexo = str(input(\"Digite F para feminino e M para masculino: \"))\n",
    "    soma_idades += idade\n",
    "\n",
    "    if sexo == \"F\" or sexo == \"f\":\n",
    "        contador_mulheres  += 1\n",
    "\n",
    "mediaIdade = soma_idades / 6\n",
    "print(f\"A média das idades é: {mediaIdade}\")\n",
    "percentualMulheres = (contador_mulheres * 100 / 6)\n",
    "print(f\"O percentual de mulheres é: {percentualMulheres}%\")"
   ]
  },
  {
   "cell_type": "code",
   "execution_count": 75,
   "id": "3c6a89c9-ef6b-465d-adcb-fa721755763d",
   "metadata": {},
   "outputs": [
    {
     "name": "stdin",
     "output_type": "stream",
     "text": [
      "1 - Entre com a sua idade e sexo:  20 m\n",
      "2 - Entre com a sua idade e sexo:  20 m\n",
      "3 - Entre com a sua idade e sexo:  20 m\n",
      "4 - Entre com a sua idade e sexo:  20 m\n",
      "5 - Entre com a sua idade e sexo:  20 m\n",
      "6 - Entre com a sua idade e sexo:  20 m\n"
     ]
    },
    {
     "name": "stdout",
     "output_type": "stream",
     "text": [
      "A média das idades é: 20.0\n",
      "O percentual de mulheres é: 0.0%\n"
     ]
    }
   ],
   "source": [
    "soma_idades = 0 \n",
    "contador_mulheres = 0\n",
    "\n",
    "for i in range(1, 7):\n",
    "    idade, sexo = input(f\"{i} - Entre com a sua idade e sexo: \").split(\" \")\n",
    "    soma_idades += int(idade)\n",
    "\n",
    "    if sexo == \"F\" or sexo == \"f\":\n",
    "        contador_mulheres  += 1\n",
    "\n",
    "mediaIdade = soma_idades / 6\n",
    "print(f\"A média das idades é: {mediaIdade}\")\n",
    "percentualMulheres = (contador_mulheres * 100 / 6)\n",
    "print(f\"O percentual de mulheres é: {percentualMulheres}%\")\n",
    "\n"
   ]
  },
  {
   "cell_type": "code",
   "execution_count": null,
   "id": "4180a21e-9850-404f-ad6f-ee10d97b8a12",
   "metadata": {},
   "outputs": [],
   "source": []
  }
 ],
 "metadata": {
  "kernelspec": {
   "display_name": "Python 3 (ipykernel)",
   "language": "python",
   "name": "python3"
  },
  "language_info": {
   "codemirror_mode": {
    "name": "ipython",
    "version": 3
   },
   "file_extension": ".py",
   "mimetype": "text/x-python",
   "name": "python",
   "nbconvert_exporter": "python",
   "pygments_lexer": "ipython3",
   "version": "3.12.4"
  }
 },
 "nbformat": 4,
 "nbformat_minor": 5
}
