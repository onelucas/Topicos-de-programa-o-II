{
 "cells": [
  {
   "cell_type": "code",
   "execution_count": 118,
   "id": "c6ab3871-9c70-4bd7-9da7-b75b6efab93d",
   "metadata": {},
   "outputs": [
    {
     "name": "stdin",
     "output_type": "stream",
     "text": [
      "Entre com uma fruta:  aba\n"
     ]
    }
   ],
   "source": [
    "import pandas as pd\n",
    "\n",
    "# lista de frutas\n",
    "lexico = [\"abacate\", \"abacaxi\", \"abobora\", \"abobrinha\", \"ananás\", \"maça\", \"mamão\", \"manga\", \"melancia\", \"melão\", \"mexerica\", \"morango\"]\n",
    "\n",
    "#segunda palavra \n",
    "entrada = input(\"Entre com uma fruta: \")\n"
   ]
  },
  {
   "cell_type": "code",
   "execution_count": 120,
   "id": "c208e77d-26d3-4fb8-b026-9b59b94e97a1",
   "metadata": {},
   "outputs": [],
   "source": [
    "def get_digramas(palavra):\n",
    "    digramas = []\n",
    "    for i in range (len(palavra)-1):\n",
    "        digramas.append(palavra[i:i+2])\n",
    "    return digramas\n",
    "\n",
    "def get_unicos(lista):\n",
    "    return set(lista)\n",
    "\n",
    "def get_compartilhados(palavra1, palavra2):\n",
    "    resultado = []\n",
    "    for i in palavra1:\n",
    "        for j in palavra2:\n",
    "            if i in j:\n",
    "                resultado. append(i)\n",
    "                break\n",
    "    return (resultado)\n",
    "    \n",
    "def relatorio(fruta, digramas, unicos):\n",
    "    print(f'Fruta: {fruta}')\n",
    "    print('-----------------------------')\n",
    "    print(f'Digramas entrada ({len(digramas)}): {digramas}')\n",
    "    print(f'Unicos entrada ({len(unicos)}): {unicos}')\n",
    "    print('\\n')\n",
    "\n",
    "def get_metrica(a, b, c):\n",
    "    return (2 * c / ( a + b))"
   ]
  },
  {
   "cell_type": "code",
   "execution_count": 122,
   "id": "65f8ef63-3a17-4ca1-9852-2ca5ac326c6a",
   "metadata": {},
   "outputs": [
    {
     "name": "stdout",
     "output_type": "stream",
     "text": [
      "Fruta: aba\n",
      "-----------------------------\n",
      "Digramas entrada (2): ['ab', 'ba']\n",
      "Unicos entrada (2): {'ab', 'ba'}\n",
      "\n",
      "\n"
     ]
    },
    {
     "data": {
      "text/html": [
       "<div>\n",
       "<style scoped>\n",
       "    .dataframe tbody tr th:only-of-type {\n",
       "        vertical-align: middle;\n",
       "    }\n",
       "\n",
       "    .dataframe tbody tr th {\n",
       "        vertical-align: top;\n",
       "    }\n",
       "\n",
       "    .dataframe thead th {\n",
       "        text-align: right;\n",
       "    }\n",
       "</style>\n",
       "<table border=\"1\" class=\"dataframe\">\n",
       "  <thead>\n",
       "    <tr style=\"text-align: right;\">\n",
       "      <th></th>\n",
       "      <th>Fruta</th>\n",
       "      <th>Digramas</th>\n",
       "      <th>Únicos</th>\n",
       "      <th>Compartilhados</th>\n",
       "      <th>Similaridade</th>\n",
       "    </tr>\n",
       "  </thead>\n",
       "  <tbody>\n",
       "    <tr>\n",
       "      <th>0</th>\n",
       "      <td>abacate</td>\n",
       "      <td>[ab, ba, ac, ca, at, te]</td>\n",
       "      <td>{ab, ca, ac, ba, at, te}</td>\n",
       "      <td>[ab, ba]</td>\n",
       "      <td>0.500000</td>\n",
       "    </tr>\n",
       "    <tr>\n",
       "      <th>1</th>\n",
       "      <td>abacaxi</td>\n",
       "      <td>[ab, ba, ac, ca, ax, xi]</td>\n",
       "      <td>{ab, ca, ac, ba, xi, ax}</td>\n",
       "      <td>[ab, ba]</td>\n",
       "      <td>0.500000</td>\n",
       "    </tr>\n",
       "    <tr>\n",
       "      <th>2</th>\n",
       "      <td>abobora</td>\n",
       "      <td>[ab, bo, ob, bo, or, ra]</td>\n",
       "      <td>{ab, ra, bo, ob, or}</td>\n",
       "      <td>[ab]</td>\n",
       "      <td>0.285714</td>\n",
       "    </tr>\n",
       "    <tr>\n",
       "      <th>3</th>\n",
       "      <td>abobrinha</td>\n",
       "      <td>[ab, bo, ob, br, ri, in, nh, ha]</td>\n",
       "      <td>{ha, ab, in, br, ri, bo, ob, nh}</td>\n",
       "      <td>[ab]</td>\n",
       "      <td>0.200000</td>\n",
       "    </tr>\n",
       "    <tr>\n",
       "      <th>4</th>\n",
       "      <td>ananás</td>\n",
       "      <td>[an, na, an, ná, ás]</td>\n",
       "      <td>{ás, ná, na, an}</td>\n",
       "      <td>[]</td>\n",
       "      <td>0.000000</td>\n",
       "    </tr>\n",
       "  </tbody>\n",
       "</table>\n",
       "</div>"
      ],
      "text/plain": [
       "       Fruta                          Digramas  \\\n",
       "0    abacate          [ab, ba, ac, ca, at, te]   \n",
       "1    abacaxi          [ab, ba, ac, ca, ax, xi]   \n",
       "2    abobora          [ab, bo, ob, bo, or, ra]   \n",
       "3  abobrinha  [ab, bo, ob, br, ri, in, nh, ha]   \n",
       "4     ananás              [an, na, an, ná, ás]   \n",
       "\n",
       "                             Únicos Compartilhados  Similaridade  \n",
       "0          {ab, ca, ac, ba, at, te}       [ab, ba]      0.500000  \n",
       "1          {ab, ca, ac, ba, xi, ax}       [ab, ba]      0.500000  \n",
       "2              {ab, ra, bo, ob, or}           [ab]      0.285714  \n",
       "3  {ha, ab, in, br, ri, bo, ob, nh}           [ab]      0.200000  \n",
       "4                  {ás, ná, na, an}             []      0.000000  "
      ]
     },
     "execution_count": 122,
     "metadata": {},
     "output_type": "execute_result"
    }
   ],
   "source": [
    "# para a fruta digitada\n",
    "digramas_entrada = get_digramas(entrada)\n",
    "unicos_entrada = get_unicos(digramas_entrada)\n",
    "relatorio(entrada, digramas_entrada, unicos_entrada)\n",
    "\n",
    "dicionario = []\n",
    "\n",
    "# para cada fruta do Lexico\n",
    "for fruta in lexico:\n",
    "    digramas_fruta = get_digramas(fruta)\n",
    "    unicos_fruta = get_unicos(digramas_fruta)\n",
    "    compartilhados = get_compartilhados(unicos_entrada, unicos_fruta)\n",
    "    #relatorio(fruta, digramas_fruta, unicos_fruta)\n",
    "    resultado = get_metrica(len(unicos_entrada), len(unicos_fruta), len(compartilhados))\n",
    "\n",
    "    dicionario.append({\n",
    "        'Fruta': fruta,\n",
    "        'Digramas': digramas_fruta,\n",
    "        'Únicos': unicos_fruta,\n",
    "        'Compartilhados': compartilhados,\n",
    "        'Similaridade': resultado\n",
    "    })\n",
    "\n",
    "df = pd.DataFrame(dicionario)\n",
    "df = df.sort_values(by='Similaridade', ascending=False)\n",
    "df.head()\n",
    "   \n",
    "    \n",
    "    "
   ]
  },
  {
   "cell_type": "code",
   "execution_count": 124,
   "id": "3c5b1a43-c1a0-4d48-a072-c2c04cdb844b",
   "metadata": {},
   "outputs": [
    {
     "name": "stdout",
     "output_type": "stream",
     "text": [
      "Fruta: aba\n",
      "Digramas: (2): ['ab', 'ba']\n",
      "Unicos: (2): {'ab', 'ba'}\n"
     ]
    }
   ],
   "source": [
    "resultado = get_digramas(entrada)\n",
    "unicos = get_unicos(resultado)\n",
    "\n",
    "print(f'Fruta: {entrada}')\n",
    "print(f'Digramas: ({len(resultado)}): {resultado}')\n",
    "print(f'Unicos: ({len(unicos)}): {unicos}')\n",
    "\n"
   ]
  },
  {
   "cell_type": "code",
   "execution_count": null,
   "id": "b309d5ae-a1fc-4cf1-8a10-652636933c6f",
   "metadata": {},
   "outputs": [],
   "source": []
  },
  {
   "cell_type": "code",
   "execution_count": null,
   "id": "f46cf195-dce9-4e4f-8ecb-dff05f33823b",
   "metadata": {},
   "outputs": [],
   "source": []
  },
  {
   "cell_type": "code",
   "execution_count": null,
   "id": "8f3bf879-a718-41b8-b1c2-9fbab94c2028",
   "metadata": {},
   "outputs": [],
   "source": []
  }
 ],
 "metadata": {
  "kernelspec": {
   "display_name": "Python 3 (ipykernel)",
   "language": "python",
   "name": "python3"
  },
  "language_info": {
   "codemirror_mode": {
    "name": "ipython",
    "version": 3
   },
   "file_extension": ".py",
   "mimetype": "text/x-python",
   "name": "python",
   "nbconvert_exporter": "python",
   "pygments_lexer": "ipython3",
   "version": "3.12.4"
  }
 },
 "nbformat": 4,
 "nbformat_minor": 5
}
