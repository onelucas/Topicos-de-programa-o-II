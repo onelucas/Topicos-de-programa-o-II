{
 "cells": [
  {
   "cell_type": "code",
   "execution_count": 37,
   "id": "364141d0-17a4-448e-82c0-ae5841a866a8",
   "metadata": {},
   "outputs": [
    {
     "name": "stdout",
     "output_type": "stream",
     "text": [
      "['importância', 'ética', 'ambiente', 'trabalho', 'deve', 'ser', 'constantemente', 'reforçada', 'líderes', 'gestores.']\n",
      "['A', 'importância', 'a', 'ética', 'no', 'ambiente', 'de', 'trabalho', 'deve', 'ser', 'constantemente', 'reforçada', 'por', 'líderes', 'e', 'gestores.']\n"
     ]
    }
   ],
   "source": [
    "from collections import Counter\n",
    "\n",
    "texto = \"A importância a ética no ambiente de trabalho deve ser constantemente reforçada por líderes e gestores.\"\n",
    "delimitador = \" \"\n",
    "stopwords = [\"a\", \"no\", \"o\", \"que\", \"e\", \"do\", \"da\", \"em\", \"um\", \"para\", \"é\", \"por\", \"de\"]\n",
    "\n",
    "def meu_tokenizador(texto, delimitador):\n",
    "    lista_tokens = texto.split(delimitador)\n",
    "    return lista_tokens\n",
    "\n",
    "def remover_stopwords(lista_tokens, stopwords):\n",
    "    lista_gowords = [token for token in lista_tokens if token.lower() not in stopwords]\n",
    "    return lista_gowords\n",
    "\n",
    "lista_tokens = meu_tokenizador(texto, delimitador)\n",
    "lista_sem_stopwords = remover_stopwords(lista_tokens, stopwords)\n",
    "print(lista_sem_stopwords)\n",
    "print(lista_tokens)"
   ]
  },
  {
   "cell_type": "code",
   "execution_count": 3,
   "id": "94dc5abb-6cfb-4c46-a642-9e26a2b50ab7",
   "metadata": {},
   "outputs": [
    {
     "name": "stdout",
     "output_type": "stream",
     "text": [
      "23 \n",
      "\n",
      "Meu nome \n",
      "\n",
      "['(11) 91234-5678', '1122334455'] \n",
      "\n",
      "['ana.silva@gmail.com.', 'contato@empresa.org.'] \n",
      "\n",
      "Meu nome é Ana, tenho 23 anos. Meu e-mail é ana.silva@gmail.com.\n",
      "Contato alternativo: (11) 91234-5678 ou 1122334455.\n",
      "Outro e-mail: contato@empresa.org.\n",
      "Visite nosso site em [LINK] ou [LINK]\n",
      " \n",
      "\n",
      "['Meu nome é Ana, tenho 23 anos', ' Meu e-mail é ana', 'silva@gmail', 'com', '\\nContato alternativo: (11) 91234-5678 ou 1122334455', '\\nOutro e-mail: contato@empresa', 'org', '\\nVisite nosso site em https://empresa', 'com', 'br ou www', 'exemplo', 'net\\n'] \n",
      "\n",
      "[]\n"
     ]
    }
   ],
   "source": [
    "import re\n",
    "texto = \"\"\"Meu nome é Ana, tenho 23 anos. Meu e-mail é ana.silva@gmail.com.\n",
    "Contato alternativo: (11) 91234-5678 ou 1122334455.\n",
    "Outro e-mail: contato@empresa.org.\n",
    "Visite nosso site em https://empresa.com.br ou www.exemplo.net\n",
    "\"\"\"\n",
    "\n",
    "primeiro_numero = re.search(r\"\\d+\", texto).group()\n",
    "texto_começa = re.match(\"Meu nome\", texto).group()\n",
    "encontrar_numeros = re.findall(r\"\\(?\\d{2}\\)? ?\\d{4,5}-?\\d{4}\", texto)\n",
    "extrair_emails = re.findall(r\"\\S+@\\S+\", texto)\n",
    "substituir_irls = re.sub(r\"https?://\\S+|www.\\S+\", \"[LINK]\" ,texto) \n",
    "separar_em_frases = re.split(r\"\\.\", texto)\n",
    "encontrar_palavras = re.findall(r\"\\[a-zA-Z]{6,}\", texto)\n",
    "\n",
    "\n",
    "print(primeiro_numero,\"\\n\")\n",
    "print(texto_começa,\"\\n\")\n",
    "print(encontrar_numeros,\"\\n\")\n",
    "print(extrair_emails,\"\\n\")\n",
    "print(substituir_irls,\"\\n\")\n",
    "print(separar_em_frases,\"\\n\")\n",
    "print(encontrar_palavras)"
   ]
  },
  {
   "cell_type": "code",
   "execution_count": null,
   "id": "bf35cb12-483e-4523-9dbf-64f7a1e96bb9",
   "metadata": {},
   "outputs": [],
   "source": []
  }
 ],
 "metadata": {
  "kernelspec": {
   "display_name": "Python 3 (ipykernel)",
   "language": "python",
   "name": "python3"
  },
  "language_info": {
   "codemirror_mode": {
    "name": "ipython",
    "version": 3
   },
   "file_extension": ".py",
   "mimetype": "text/x-python",
   "name": "python",
   "nbconvert_exporter": "python",
   "pygments_lexer": "ipython3",
   "version": "3.12.4"
  }
 },
 "nbformat": 4,
 "nbformat_minor": 5
}
