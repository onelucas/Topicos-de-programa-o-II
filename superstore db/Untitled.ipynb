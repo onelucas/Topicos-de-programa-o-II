{
 "cells": [
  {
   "cell_type": "code",
   "execution_count": 1,
   "id": "ba0703ba-28cd-466f-bc5d-d4158a3b5875",
   "metadata": {},
   "outputs": [],
   "source": [
    "# Carregar e visualizar os dados"
   ]
  },
  {
   "cell_type": "code",
   "execution_count": 3,
   "id": "46becc59-5747-4a64-a296-e477dd41bbad",
   "metadata": {},
   "outputs": [],
   "source": [
    "# Carregar e visualizar os dados"
   ]
  },
  {
   "cell_type": "code",
   "execution_count": 6,
   "id": "adfdbab7-9545-46f2-bf00-fe5e6b2c1126",
   "metadata": {},
   "outputs": [],
   "source": [
    "# Qual é o produto mais vendido"
   ]
  },
  {
   "cell_type": "code",
   "execution_count": 9,
   "id": "c27d7c9e-a6dc-4b33-a6dd-34d4a77c4df7",
   "metadata": {},
   "outputs": [],
   "source": [
    "# Qual o lucro total por categoria de produtos"
   ]
  },
  {
   "cell_type": "code",
   "execution_count": null,
   "id": "a63399da-78b6-41c8-bff0-16743843c388",
   "metadata": {},
   "outputs": [],
   "source": [
    "# Encontrar os 5 clientes que mais compraram"
   ]
  },
  {
   "cell_type": "code",
   "execution_count": 12,
   "id": "07745f66-0627-4026-9aee-de03838c896a",
   "metadata": {},
   "outputs": [],
   "source": [
    "# Encontrar a cidade que mais vendeu (maior receita)"
   ]
  },
  {
   "cell_type": "code",
   "execution_count": 15,
   "id": "f805aae2-93ac-4327-9599-cf91835b4bab",
   "metadata": {},
   "outputs": [],
   "source": [
    "#Criar um gráfico de faturamente por categoria"
   ]
  },
  {
   "cell_type": "code",
   "execution_count": 18,
   "id": "99e3fb27-a1e5-4a27-ae2d-a754dc9c6db2",
   "metadata": {},
   "outputs": [
    {
     "name": "stdout",
     "output_type": "stream",
     "text": [
      "   Row ID        Order ID  Order Date   Ship Date       Ship Mode Customer ID  \\\n",
      "0       1  CA-2017-152156  08/11/2017  11/11/2017    Second Class    CG-12520   \n",
      "1       2  CA-2017-152156  08/11/2017  11/11/2017    Second Class    CG-12520   \n",
      "2       3  CA-2017-138688  12/06/2017  16/06/2017    Second Class    DV-13045   \n",
      "3       4  US-2016-108966  11/10/2016  18/10/2016  Standard Class    SO-20335   \n",
      "4       5  US-2016-108966  11/10/2016  18/10/2016  Standard Class    SO-20335   \n",
      "\n",
      "     Customer Name    Segment        Country             City       State  \\\n",
      "0      Claire Gute   Consumer  United States        Henderson    Kentucky   \n",
      "1      Claire Gute   Consumer  United States        Henderson    Kentucky   \n",
      "2  Darrin Van Huff  Corporate  United States      Los Angeles  California   \n",
      "3   Sean O'Donnell   Consumer  United States  Fort Lauderdale     Florida   \n",
      "4   Sean O'Donnell   Consumer  United States  Fort Lauderdale     Florida   \n",
      "\n",
      "   Postal Code Region       Product ID         Category Sub-Category  \\\n",
      "0      42420.0  South  FUR-BO-10001798        Furniture    Bookcases   \n",
      "1      42420.0  South  FUR-CH-10000454        Furniture       Chairs   \n",
      "2      90036.0   West  OFF-LA-10000240  Office Supplies       Labels   \n",
      "3      33311.0  South  FUR-TA-10000577        Furniture       Tables   \n",
      "4      33311.0  South  OFF-ST-10000760  Office Supplies      Storage   \n",
      "\n",
      "                                        Product Name     Sales  \n",
      "0                  Bush Somerset Collection Bookcase  261.9600  \n",
      "1  Hon Deluxe Fabric Upholstered Stacking Chairs,...  731.9400  \n",
      "2  Self-Adhesive Address Labels for Typewriters b...   14.6200  \n",
      "3      Bretford CR4500 Series Slim Rectangular Table  957.5775  \n",
      "4                     Eldon Fold 'N Roll Cart System   22.3680  \n"
     ]
    }
   ],
   "source": [
    "import pandas as pd\n",
    "import matplotlib.pyplot as plt \n",
    "\n",
    "tabela = pd.read_csv(\"superstore/train.csv\")\n",
    "print(tabela.head())"
   ]
  },
  {
   "cell_type": "code",
   "execution_count": null,
   "id": "b3b03c11-dd51-4887-8f6d-57a72227f919",
   "metadata": {},
   "outputs": [],
   "source": []
  }
 ],
 "metadata": {
  "kernelspec": {
   "display_name": "Python 3 (ipykernel)",
   "language": "python",
   "name": "python3"
  },
  "language_info": {
   "codemirror_mode": {
    "name": "ipython",
    "version": 3
   },
   "file_extension": ".py",
   "mimetype": "text/x-python",
   "name": "python",
   "nbconvert_exporter": "python",
   "pygments_lexer": "ipython3",
   "version": "3.12.4"
  }
 },
 "nbformat": 4,
 "nbformat_minor": 5
}
