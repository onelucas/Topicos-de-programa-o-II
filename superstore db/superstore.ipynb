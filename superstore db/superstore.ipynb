{
 "cells": [
  {
   "cell_type": "code",
   "execution_count": 25,
   "id": "ba0703ba-28cd-466f-bc5d-d4158a3b5875",
   "metadata": {},
   "outputs": [],
   "source": [
    "# Carregar e visualizar os dados"
   ]
  },
  {
   "cell_type": "code",
   "execution_count": null,
   "id": "3190d732-5f3e-44b9-89ab-7d33aaa6a912",
   "metadata": {},
   "outputs": [],
   "source": [
    "# Filtrar vendas por um período específico"
   ]
  },
  {
   "cell_type": "code",
   "execution_count": 6,
   "id": "adfdbab7-9545-46f2-bf00-fe5e6b2c1126",
   "metadata": {},
   "outputs": [],
   "source": [
    "# Qual é o produto mais vendido"
   ]
  },
  {
   "cell_type": "code",
   "execution_count": 9,
   "id": "c27d7c9e-a6dc-4b33-a6dd-34d4a77c4df7",
   "metadata": {},
   "outputs": [],
   "source": [
    "# Qual o lucro total por categoria de produtos"
   ]
  },
  {
   "cell_type": "code",
   "execution_count": null,
   "id": "a63399da-78b6-41c8-bff0-16743843c388",
   "metadata": {},
   "outputs": [],
   "source": [
    "# Encontrar os 5 clientes que mais compraram"
   ]
  },
  {
   "cell_type": "code",
   "execution_count": 12,
   "id": "07745f66-0627-4026-9aee-de03838c896a",
   "metadata": {},
   "outputs": [],
   "source": [
    "# Encontrar a cidade que mais vendeu (maior receita)"
   ]
  },
  {
   "cell_type": "code",
   "execution_count": 15,
   "id": "f805aae2-93ac-4327-9599-cf91835b4bab",
   "metadata": {},
   "outputs": [],
   "source": [
    "#Criar um gráfico de faturamente por categoria"
   ]
  },
  {
   "cell_type": "code",
   "execution_count": 21,
   "id": "99e3fb27-a1e5-4a27-ae2d-a754dc9c6db2",
   "metadata": {},
   "outputs": [
    {
     "name": "stdout",
     "output_type": "stream",
     "text": [
      "   Row ID        Order ID  Order Date   Ship Date       Ship Mode Customer ID  \\\n",
      "0       1  CA-2017-152156  08/11/2017  11/11/2017    Second Class    CG-12520   \n",
      "1       2  CA-2017-152156  08/11/2017  11/11/2017    Second Class    CG-12520   \n",
      "2       3  CA-2017-138688  12/06/2017  16/06/2017    Second Class    DV-13045   \n",
      "3       4  US-2016-108966  11/10/2016  18/10/2016  Standard Class    SO-20335   \n",
      "4       5  US-2016-108966  11/10/2016  18/10/2016  Standard Class    SO-20335   \n",
      "\n",
      "     Customer Name    Segment        Country             City       State  \\\n",
      "0      Claire Gute   Consumer  United States        Henderson    Kentucky   \n",
      "1      Claire Gute   Consumer  United States        Henderson    Kentucky   \n",
      "2  Darrin Van Huff  Corporate  United States      Los Angeles  California   \n",
      "3   Sean O'Donnell   Consumer  United States  Fort Lauderdale     Florida   \n",
      "4   Sean O'Donnell   Consumer  United States  Fort Lauderdale     Florida   \n",
      "\n",
      "   Postal Code Region       Product ID         Category Sub-Category  \\\n",
      "0      42420.0  South  FUR-BO-10001798        Furniture    Bookcases   \n",
      "1      42420.0  South  FUR-CH-10000454        Furniture       Chairs   \n",
      "2      90036.0   West  OFF-LA-10000240  Office Supplies       Labels   \n",
      "3      33311.0  South  FUR-TA-10000577        Furniture       Tables   \n",
      "4      33311.0  South  OFF-ST-10000760  Office Supplies      Storage   \n",
      "\n",
      "                                        Product Name     Sales  \n",
      "0                  Bush Somerset Collection Bookcase  261.9600  \n",
      "1  Hon Deluxe Fabric Upholstered Stacking Chairs,...  731.9400  \n",
      "2  Self-Adhesive Address Labels for Typewriters b...   14.6200  \n",
      "3      Bretford CR4500 Series Slim Rectangular Table  957.5775  \n",
      "4                     Eldon Fold 'N Roll Cart System   22.3680  \n"
     ]
    }
   ],
   "source": [
    "# Carregar e visualizar os dados\n",
    "import pandas as pd\n",
    "import matplotlib.pyplot as plt \n",
    "\n",
    "tabela = pd.read_csv(\"superstore/train.csv\")\n",
    "print(tabela.head())"
   ]
  },
  {
   "cell_type": "code",
   "execution_count": 23,
   "id": "b3b03c11-dd51-4887-8f6d-57a72227f919",
   "metadata": {},
   "outputs": [
    {
     "name": "stdout",
     "output_type": "stream",
     "text": [
      "      Row ID        Order ID  Order Date   Ship Date       Ship Mode  \\\n",
      "89        90  CA-2017-109806  17/09/2017  22/09/2017  Standard Class   \n",
      "90        91  CA-2017-109806  17/09/2017  22/09/2017  Standard Class   \n",
      "91        92  CA-2017-109806  17/09/2017  22/09/2017  Standard Class   \n",
      "1507    1508  CA-2017-134208  17/09/2017  23/09/2017  Standard Class   \n",
      "2255    2256  CA-2017-164091  17/09/2017  22/09/2017  Standard Class   \n",
      "2256    2257  CA-2017-164091  17/09/2017  22/09/2017  Standard Class   \n",
      "3248    3249  CA-2017-159730  17/09/2017  21/09/2017  Standard Class   \n",
      "3249    3250  CA-2017-159730  17/09/2017  21/09/2017  Standard Class   \n",
      "3310    3311  CA-2017-111416  17/09/2017  22/09/2017  Standard Class   \n",
      "3719    3720  CA-2017-105900  17/09/2017  23/09/2017  Standard Class   \n",
      "9027    9028  US-2017-152415  17/09/2017  22/09/2017  Standard Class   \n",
      "9028    9029  US-2017-152415  17/09/2017  22/09/2017  Standard Class   \n",
      "9089    9090  CA-2017-131093  17/09/2017  20/09/2017    Second Class   \n",
      "9448    9449  US-2017-148957  17/09/2017  23/09/2017  Standard Class   \n",
      "\n",
      "     Customer ID      Customer Name      Segment        Country  \\\n",
      "89      JS-15685           Jim Sink    Corporate  United States   \n",
      "90      JS-15685           Jim Sink    Corporate  United States   \n",
      "91      JS-15685           Jim Sink    Corporate  United States   \n",
      "1507    CS-12505      Cindy Stewart     Consumer  United States   \n",
      "2255    LA-16780    Laura Armstrong    Corporate  United States   \n",
      "2256    LA-16780    Laura Armstrong    Corporate  United States   \n",
      "3248    SJ-20125      Sanjit Jacobs  Home Office  United States   \n",
      "3249    SJ-20125      Sanjit Jacobs  Home Office  United States   \n",
      "3310    LW-17215         Luke Weiss     Consumer  United States   \n",
      "3719    BS-11590      Brendan Sweed    Corporate  United States   \n",
      "9027    PO-18865  Patrick O'Donnell     Consumer  United States   \n",
      "9028    PO-18865  Patrick O'Donnell     Consumer  United States   \n",
      "9089    TS-21610       Troy Staebel     Consumer  United States   \n",
      "9448    CC-12430        Chuck Clark  Home Office  United States   \n",
      "\n",
      "               City          State  Postal Code   Region       Product ID  \\\n",
      "89      Los Angeles     California      90036.0     West  OFF-AR-10004930   \n",
      "90      Los Angeles     California      90036.0     West  TEC-PH-10004093   \n",
      "91      Los Angeles     California      90036.0     West  OFF-PA-10000304   \n",
      "1507       Columbus        Georgia      31907.0    South  TEC-MA-10004458   \n",
      "2255         Bangor          Maine       4401.0     East  TEC-PH-10001944   \n",
      "2256         Bangor          Maine       4401.0     East  FUR-FU-10004952   \n",
      "3248        Seattle     Washington      98103.0     West  FUR-CH-10004875   \n",
      "3249        Seattle     Washington      98103.0     West  TEC-PH-10002085   \n",
      "3310  New York City       New York      10035.0     East  OFF-BI-10002026   \n",
      "3719       Columbus        Indiana      47201.0  Central  OFF-AR-10002656   \n",
      "9027    Marlborough  Massachusetts       1752.0     East  FUR-FU-10002597   \n",
      "9028    Marlborough  Massachusetts       1752.0     East  FUR-FU-10004864   \n",
      "9089    Springfield           Ohio      45503.0     East  OFF-ST-10002790   \n",
      "9448        Redmond     Washington      98052.0     West  OFF-LA-10002195   \n",
      "\n",
      "             Category Sub-Category  \\\n",
      "89    Office Supplies          Art   \n",
      "90         Technology       Phones   \n",
      "91    Office Supplies        Paper   \n",
      "1507       Technology     Machines   \n",
      "2255       Technology       Phones   \n",
      "2256        Furniture  Furnishings   \n",
      "3248        Furniture       Chairs   \n",
      "3249       Technology       Phones   \n",
      "3310  Office Supplies      Binders   \n",
      "3719  Office Supplies          Art   \n",
      "9027        Furniture  Furnishings   \n",
      "9028        Furniture  Furnishings   \n",
      "9089  Office Supplies      Storage   \n",
      "9448  Office Supplies       Labels   \n",
      "\n",
      "                                           Product Name    Sales  \n",
      "89               Turquoise Lead Holder with Pocket Clip   20.100  \n",
      "90                                   Panasonic Kx-TS550   73.584  \n",
      "91                                           Xerox 1995    6.480  \n",
      "1507  Lexmark X 9575 Professional All-in-One Color P...  396.000  \n",
      "2255   Wi-Ex zBoost YX540 Cellular Phone Signal Booster  437.850  \n",
      "2256  C-Line Cubicle Keepers Polyproplyene Holder w/...  109.480  \n",
      "3248     Harbour Creations 67200 Series Stacking Chairs  113.888  \n",
      "3249                                      Clarity 53712  105.584  \n",
      "3310                            Avery Arch Ring Binders  232.400  \n",
      "3719                 Sanford Liquid Accent Highlighters   33.400  \n",
      "9027  C-Line Magnetic Cubicle Keepers, Clear Polypro...   14.820  \n",
      "9028  Howard Miller 14-1/2\" Diameter Chrome Round Wa...  191.820  \n",
      "9089                          Safco Industrial Shelving  295.400  \n",
      "9448                                          Avery 481   12.320  \n"
     ]
    }
   ],
   "source": [
    "# Filtrar vendas por um período específico\n",
    "resultado = tabela.loc[tabela['Order Date'].str.contains('17/09/2017')]\n",
    "print(resultado)"
   ]
  },
  {
   "cell_type": "code",
   "execution_count": 27,
   "id": "c936518a-260f-4af3-813f-181282a39296",
   "metadata": {},
   "outputs": [
    {
     "name": "stdout",
     "output_type": "stream",
     "text": [
      "Product Name\n",
      "\"While you Were Out\" Message Book, One Form per Page                                                     840.933333\n",
      "#10 Gummed Flap White Envelopes, 100/Box                                                                1032.500000\n",
      "#10 Self-Seal White Envelopes                                                                           2717.050000\n",
      "#10 White Business Envelopes,4 1/8 x 9 1/2                                                              6320.233333\n",
      "#10- 4 1/8\" x 9 1/2\" Recycled Envelopes                                                                 2866.720000\n",
      "                                                                                                           ...     \n",
      "iKross Bluetooth Portable Keyboard + Cell Phone Stand Holder + Brush for Apple iPhone 5S 5C 5, 4S 4     9553.200000\n",
      "iOttie HLCRIO102 Car Mount                                                                              4317.840000\n",
      "iOttie XL Car Mount                                                                                    11194.400000\n",
      "invisibleSHIELD by ZAGG Smudge-Free Screen Protector                                                    6322.200000\n",
      "netTALK DUO VoIP Telephone Service                                                                     15896.971429\n",
      "Name: Sales, Length: 1849, dtype: float64\n"
     ]
    }
   ],
   "source": [
    "# Qual é o produto mais vendido\n",
    "produto_mais_vendido = tabela.groupby('Product Name')['Sales'].mean() * 100\n",
    "print(produto_mais_vendido)"
   ]
  },
  {
   "cell_type": "code",
   "execution_count": null,
   "id": "b0801fed-a76b-445f-8e93-6ef6639d0456",
   "metadata": {},
   "outputs": [],
   "source": []
  }
 ],
 "metadata": {
  "kernelspec": {
   "display_name": "Python 3 (ipykernel)",
   "language": "python",
   "name": "python3"
  },
  "language_info": {
   "codemirror_mode": {
    "name": "ipython",
    "version": 3
   },
   "file_extension": ".py",
   "mimetype": "text/x-python",
   "name": "python",
   "nbconvert_exporter": "python",
   "pygments_lexer": "ipython3",
   "version": "3.12.4"
  }
 },
 "nbformat": 4,
 "nbformat_minor": 5
}
