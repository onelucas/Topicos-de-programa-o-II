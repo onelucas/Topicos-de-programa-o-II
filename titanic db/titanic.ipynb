{
 "cells": [
  {
   "cell_type": "code",
   "execution_count": 83,
   "id": "05d2594b-9d0d-4a29-a8f4-f3c3ecb26540",
   "metadata": {},
   "outputs": [],
   "source": [
    "## TITULO DATASET TITANIC\n",
    "import pandas as pd\n",
    "\n",
    "tabela1 = pd.read_csv('titanic/test.csv')\n",
    "tabela2 = pd.read_csv('titanic/train.csv')\n",
    "\n",
    "tabela = pd.concat([tabela1, tabela2], axis=0)"
   ]
  },
  {
   "cell_type": "code",
   "execution_count": 34,
   "id": "2f65b403-db5d-4d2b-87b5-c922e5a2af13",
   "metadata": {},
   "outputs": [
    {
     "name": "stdout",
     "output_type": "stream",
     "text": [
      "       PassengerId      Pclass        Age       SibSp       Parch        Fare\n",
      "count   836.000000  836.000000  664.00000  836.000000  836.000000  834.000000\n",
      "mean   1100.500000    2.265550   30.27259    0.447368    0.392344   35.627188\n",
      "std     120.738094    0.841333   14.17051    0.896222    0.980841   55.874008\n",
      "min     892.000000    1.000000    0.17000    0.000000    0.000000    0.000000\n",
      "25%     996.000000    1.000000   21.00000    0.000000    0.000000    7.895800\n",
      "50%    1100.500000    3.000000   27.00000    0.000000    0.000000   14.454200\n",
      "75%    1205.000000    3.000000   39.00000    1.000000    0.000000   31.500000\n",
      "max    1309.000000    3.000000   76.00000    8.000000    9.000000  512.329200\n"
     ]
    }
   ],
   "source": [
    "print(tabela.describe())"
   ]
  },
  {
   "cell_type": "code",
   "execution_count": 61,
   "id": "6fc9c939-c261-4289-aca9-d222e7717a30",
   "metadata": {},
   "outputs": [
    {
     "name": "stdout",
     "output_type": "stream",
     "text": [
      "     PassengerId  Pclass                             Name   Sex   Age  SibSp  \\\n",
      "64           956       1      Ryerson, Master. John Borie  male  13.0      2   \n",
      "196         1088       1  Spedden, Master. Robert Douglas  male   6.0      0   \n",
      "403         1295       1           Carrau, Mr. Jose Pedro  male  17.0      0   \n",
      "64           956       1      Ryerson, Master. John Borie  male  13.0      2   \n",
      "196         1088       1  Spedden, Master. Robert Douglas  male   6.0      0   \n",
      "\n",
      "     Parch    Ticket     Fare            Cabin Embarked  \n",
      "64       2  PC 17608  262.375  B57 B59 B63 B66        C  \n",
      "196      2     16966  134.500              E34        C  \n",
      "403      0    113059   47.100              NaN        S  \n",
      "64       2  PC 17608  262.375  B57 B59 B63 B66        C  \n",
      "196      2     16966  134.500              E34        C  \n"
     ]
    }
   ],
   "source": [
    "criancas_1a_classe = tabela[(tabela['Age'] < 18) & (tabela['Pclass'] == 1)]\n",
    "\n",
    "print(criancas_1a_classe.head())"
   ]
  },
  {
   "cell_type": "code",
   "execution_count": 65,
   "id": "23432fa0-5ac6-4d3f-a2b4-0c0fca37a1ce",
   "metadata": {},
   "outputs": [
    {
     "name": "stdout",
     "output_type": "stream",
     "text": [
      "Survived\n",
      "0.0    549\n",
      "1.0    342\n",
      "Name: count, dtype: int64\n"
     ]
    }
   ],
   "source": [
    "sobreviventes = tabela['Survived'].value_counts()\n",
    "print(sobreviventes)"
   ]
  },
  {
   "cell_type": "code",
   "execution_count": 75,
   "id": "c1a5de44-a983-44b5-a136-c458962ba05d",
   "metadata": {},
   "outputs": [
    {
     "name": "stdout",
     "output_type": "stream",
     "text": [
      "Sex\n",
      "female    74.203822\n",
      "male      18.890815\n",
      "Name: Survived, dtype: float64\n"
     ]
    }
   ],
   "source": [
    "sobreviventes_por_sexo_taxa = tabela.groupby('Sex')['Survived'].mean() * 100\n",
    "print(sobreviventes_por_sexo_taxa)"
   ]
  },
  {
   "cell_type": "code",
   "execution_count": 77,
   "id": "3db76e57-d632-46db-8928-4510ded00964",
   "metadata": {},
   "outputs": [
    {
     "name": "stdout",
     "output_type": "stream",
     "text": [
      "Survived\n",
      "0.0    30.626179\n",
      "1.0    28.343690\n",
      "Name: Age, dtype: float64\n"
     ]
    }
   ],
   "source": [
    "idade_media = tabela.groupby('Survived')['Age'].mean()\n",
    "print(idade_media)"
   ]
  },
  {
   "cell_type": "code",
   "execution_count": 55,
   "id": "fb452cd3-ef67-4504-91ed-ae7b4466cfcf",
   "metadata": {},
   "outputs": [
    {
     "name": "stdout",
     "output_type": "stream",
     "text": [
      "Index(['PassengerId', 'Pclass', 'Name', 'Sex', 'Age', 'SibSp', 'Parch',\n",
      "       'Ticket', 'Fare', 'Cabin', 'Embarked'],\n",
      "      dtype='object')\n"
     ]
    }
   ],
   "source": [
    "print(tabela.columns)"
   ]
  },
  {
   "cell_type": "code",
   "execution_count": 81,
   "id": "ab8b8186-0fb3-4a36-b3d7-6a1b5639dbc5",
   "metadata": {},
   "outputs": [
    {
     "data": {
      "image/png": "[encoded data removed]",
      "text/plain": [
       "<Figure size 640x480 with 1 Axes>"
      ]
     },
     "metadata": {},
     "output_type": "display_data"
    }
   ],
   "source": [
    "import matplotlib.pyplot as plt \n",
    "\n",
    "tabela.groupby('Pclass')['Survived'].mean().plot(kind='bar')\n",
    "plt.xlabel(\"Classe do Passageiro\")\n",
    "plt.ylabel(\"Taxa de Sobreviventes\")\n",
    "plt.title(\"Taxa de Sobreviventes por classe\")\n",
    "plt.show()\n"
   ]
  },
  {
   "cell_type": "code",
   "execution_count": null,
   "id": "fd2dff89-92b5-413f-b306-6aee1e73b95f",
   "metadata": {},
   "outputs": [],
   "source": []
  }
 ],
 "metadata": {
  "kernelspec": {
   "display_name": "Python 3 (ipykernel)",
   "language": "python",
   "name": "python3"
  },
  "language_info": {
   "codemirror_mode": {
    "name": "ipython",
    "version": 3
   },
   "file_extension": ".py",
   "mimetype": "text/x-python",
   "name": "python",
   "nbconvert_exporter": "python",
   "pygments_lexer": "ipython3",
   "version": "3.12.4"
  }
 },
 "nbformat": 4,
 "nbformat_minor": 5
}
