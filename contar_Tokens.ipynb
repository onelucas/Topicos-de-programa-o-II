{
 "cells": [
  {
   "cell_type": "code",
   "execution_count": 22,
   "id": "18d494c5-c02e-4e9f-9d0e-e47784a0a7c1",
   "metadata": {},
   "outputs": [
    {
     "name": "stdout",
     "output_type": "stream",
     "text": [
      "['Este', 'texto', 'está', 'sendo', 'utilizado', 'para', 'demonstrar', 'o', 'funcionamento', 'de', 'diferentes', 'formas', 'de', 'tokenização', '.', 'O', 'processo', 'de', 'tokenização', 'pode', 'ser', 'realizado', 'com', 'objetivos', 'distintos', '.']\n",
      "('Este', 1)\n",
      "('texto', 1)\n",
      "('está', 1)\n",
      "('sendo', 1)\n",
      "('utilizado', 1)\n",
      "('para', 1)\n",
      "('demonstrar', 1)\n",
      "('o', 1)\n",
      "('funcionamento', 1)\n",
      "('de', 3)\n",
      "('diferentes', 1)\n",
      "('formas', 1)\n",
      "('tokenização', 2)\n",
      "('.', 2)\n",
      "('O', 1)\n",
      "('processo', 1)\n",
      "('pode', 1)\n",
      "('ser', 1)\n",
      "('realizado', 1)\n",
      "('com', 1)\n",
      "('objetivos', 1)\n",
      "('distintos', 1)\n"
     ]
    },
    {
     "name": "stderr",
     "output_type": "stream",
     "text": [
      "[nltk_data] Downloading package punkt to\n",
      "[nltk_data]     C:\\Users\\aluno\\AppData\\Roaming\\nltk_data...\n",
      "[nltk_data]   Package punkt is already up-to-date!\n"
     ]
    }
   ],
   "source": [
    "from collections import Counter\n",
    "import nltk\n",
    "from nltk import tokenize\n",
    "\n",
    "nltk.download('punkt')\n",
    "\n",
    "\n",
    "texto = \"Este texto está sendo utilizado para demonstrar o funcionamento de diferentes formas de tokenização. O processo de tokenização pode ser realizado com objetivos distintos.\"\n",
    "\n",
    "palavras_tokenize = tokenize.word_tokenize(texto, language='portuguese')\n",
    "\n",
    "print(palavras_tokenize)\n",
    "contador = Counter(palavras_tokenize)\n",
    "\n",
    "for cont in contador.items():\n",
    "    print(cont)"
   ]
  },
  {
   "cell_type": "code",
   "execution_count": null,
   "id": "b06a14eb-372c-4be1-a746-53db0a4cbd43",
   "metadata": {},
   "outputs": [],
   "source": []
  }
 ],
 "metadata": {
  "kernelspec": {
   "display_name": "Python 3 (ipykernel)",
   "language": "python",
   "name": "python3"
  },
  "language_info": {
   "codemirror_mode": {
    "name": "ipython",
    "version": 3
   },
   "file_extension": ".py",
   "mimetype": "text/x-python",
   "name": "python",
   "nbconvert_exporter": "python",
   "pygments_lexer": "ipython3",
   "version": "3.12.4"
  }
 },
 "nbformat": 4,
 "nbformat_minor": 5
}
